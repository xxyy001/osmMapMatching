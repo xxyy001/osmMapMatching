{
 "cells": [
  {
   "cell_type": "code",
   "execution_count": 41,
   "metadata": {},
   "outputs": [],
   "source": [
    "# a中存在而b不存在得数字\n",
    "class Solution:\n",
    "    def judgeNumber(self,a,b):\n",
    "        if  not a or not b:\n",
    "            return []\n",
    "        res = []\n",
    "        while a:\n",
    "            tmp = a.pop()\n",
    "            if tmp not  in b:\n",
    "                res.append(tmp)\n",
    "        return res"
   ]
  },
  {
   "cell_type": "code",
   "execution_count": 42,
   "metadata": {},
   "outputs": [],
   "source": [
    "c = Solution()"
   ]
  },
  {
   "cell_type": "code",
   "execution_count": 43,
   "metadata": {},
   "outputs": [],
   "source": [
    "a = [1,1,2,3]\n",
    "b = [2,3]"
   ]
  },
  {
   "cell_type": "code",
   "execution_count": 44,
   "metadata": {},
   "outputs": [
    {
     "data": {
      "text/plain": [
       "[1, 1]"
      ]
     },
     "execution_count": 44,
     "metadata": {},
     "output_type": "execute_result"
    }
   ],
   "source": [
    "c.judgeNumber(a,b)"
   ]
  },
  {
   "cell_type": "code",
   "execution_count": 39,
   "metadata": {},
   "outputs": [
    {
     "name": "stdout",
     "output_type": "stream",
     "text": [
      "21\n"
     ]
    }
   ],
   "source": [
    "#背包问题得空间优化\n",
    "import numpy as np\n",
    "\n",
    "def solve2(v,w,W):\n",
    "    if not v or not w:\n",
    "        return 0\n",
    "    resArr = np.zeros((W),dtype=np.int32)\n",
    "    n = len(v)\n",
    "    for i in range(n):\n",
    "        for j in range(W-1,-1,-1):\n",
    "            if w[i] <= j:\n",
    "                resArr[j] = max(resArr[j],resArr[j-w[i]]+v[i])\n",
    "    return resArr[-1]\n",
    "\n",
    "if __name__ == '__main__':\n",
    "    v = [6,10,3,4,5,8]\n",
    "    w = [200,600,100,180,300,450]\n",
    "    weight = 1000\n",
    "    result = solve2(v,w,weight)\n",
    "    print(result)         "
   ]
  },
  {
   "cell_type": "code",
   "execution_count": null,
   "metadata": {},
   "outputs": [],
   "source": []
  }
 ],
 "metadata": {
  "kernelspec": {
   "display_name": "Python 3",
   "language": "python",
   "name": "python3"
  },
  "language_info": {
   "codemirror_mode": {
    "name": "ipython",
    "version": 3
   },
   "file_extension": ".py",
   "mimetype": "text/x-python",
   "name": "python",
   "nbconvert_exporter": "python",
   "pygments_lexer": "ipython3",
   "version": "3.6.7"
  }
 },
 "nbformat": 4,
 "nbformat_minor": 2
}
